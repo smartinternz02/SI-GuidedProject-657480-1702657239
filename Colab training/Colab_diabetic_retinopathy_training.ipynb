{
  "cells": [
    {
      "cell_type": "code",
      "execution_count": null,
      "metadata": {
        "colab": {
          "base_uri": "https://localhost:8080/"
        },
        "id": "TpOSr1jK4IcX",
        "outputId": "e3694092-36fd-4e3d-a6d9-9d0732132e51"
      },
      "outputs": [
        {
          "output_type": "stream",
          "name": "stdout",
          "text": [
            "Requirement already satisfied: kaggle in /usr/local/lib/python3.10/dist-packages (1.5.16)\n",
            "Requirement already satisfied: six>=1.10 in /usr/local/lib/python3.10/dist-packages (from kaggle) (1.16.0)\n",
            "Requirement already satisfied: certifi in /usr/local/lib/python3.10/dist-packages (from kaggle) (2023.11.17)\n",
            "Requirement already satisfied: python-dateutil in /usr/local/lib/python3.10/dist-packages (from kaggle) (2.8.2)\n",
            "Requirement already satisfied: requests in /usr/local/lib/python3.10/dist-packages (from kaggle) (2.31.0)\n",
            "Requirement already satisfied: tqdm in /usr/local/lib/python3.10/dist-packages (from kaggle) (4.66.1)\n",
            "Requirement already satisfied: python-slugify in /usr/local/lib/python3.10/dist-packages (from kaggle) (8.0.1)\n",
            "Requirement already satisfied: urllib3 in /usr/local/lib/python3.10/dist-packages (from kaggle) (2.0.7)\n",
            "Requirement already satisfied: bleach in /usr/local/lib/python3.10/dist-packages (from kaggle) (6.1.0)\n",
            "Requirement already satisfied: webencodings in /usr/local/lib/python3.10/dist-packages (from bleach->kaggle) (0.5.1)\n",
            "Requirement already satisfied: text-unidecode>=1.3 in /usr/local/lib/python3.10/dist-packages (from python-slugify->kaggle) (1.3)\n",
            "Requirement already satisfied: charset-normalizer<4,>=2 in /usr/local/lib/python3.10/dist-packages (from requests->kaggle) (3.3.2)\n",
            "Requirement already satisfied: idna<4,>=2.5 in /usr/local/lib/python3.10/dist-packages (from requests->kaggle) (3.6)\n"
          ]
        }
      ],
      "source": [
        "!pip install kaggle"
      ]
    },
    {
      "cell_type": "code",
      "execution_count": null,
      "metadata": {
        "id": "DnyDZ-Ja4m0R",
        "colab": {
          "base_uri": "https://localhost:8080/"
        },
        "outputId": "06f68e22-3472-4f85-f43c-dcf2d7bbd2df"
      },
      "outputs": [
        {
          "output_type": "stream",
          "name": "stdout",
          "text": [
            "mkdir: cannot create directory ‘/root/.kaggle’: File exists\n"
          ]
        }
      ],
      "source": [
        "! mkdir ~/.kaggle"
      ]
    },
    {
      "cell_type": "code",
      "execution_count": null,
      "metadata": {
        "id": "pMlrJsD44tdc"
      },
      "outputs": [],
      "source": [
        "! cp kaggle.json ~/.kaggle/"
      ]
    },
    {
      "cell_type": "code",
      "execution_count": null,
      "metadata": {
        "id": "seheQfmT4xBr"
      },
      "outputs": [],
      "source": [
        "! chmod 600 ~/.kaggle/kaggle.json"
      ]
    },
    {
      "cell_type": "code",
      "execution_count": null,
      "metadata": {
        "colab": {
          "base_uri": "https://localhost:8080/"
        },
        "id": "_ahiK0pY5g1z",
        "outputId": "acb831cc-726a-4efb-90ed-b906d8b44c91"
      },
      "outputs": [
        {
          "output_type": "stream",
          "name": "stdout",
          "text": [
            "ref                                                    title                                        size  lastUpdated          downloadCount  voteCount  usabilityRating  \n",
            "-----------------------------------------------------  ------------------------------------------  -----  -------------------  -------------  ---------  ---------------  \n",
            "thedrcat/daigt-v2-train-dataset                        DAIGT V2 Train Dataset                       29MB  2023-11-16 01:38:36           2907        246  1.0              \n",
            "thedevastator/global-video-game-sales-and-reviews      Global Video Game Sales and Reviews          56KB  2023-12-20 06:36:51           1087         30  1.0              \n",
            "bhavikjikadara/car-price-prediction-dataset            Car Price Prediction Dataset                  4KB  2023-12-23 07:07:54           1090         31  0.9411765        \n",
            "andreinovikov/air-pollution                            Air pollution                                96KB  2023-12-05 12:00:34           1103         23  1.0              \n",
            "thedrcat/daigt-proper-train-dataset                    DAIGT Proper Train Dataset                  119MB  2023-11-05 14:03:25           2285        177  1.0              \n",
            "muhammadbinimran/housing-price-prediction-data         Housing Price Prediction Data               763KB  2023-11-21 17:56:32          12448        217  1.0              \n",
            "henryshan/starbucks                                    Starbucks                                     5KB  2023-12-06 03:07:49           4262         94  1.0              \n",
            "henryshan/2023-data-scientists-salary                  2023 Data Scientists Salary                  25KB  2023-12-14 10:14:34           2097         46  1.0              \n",
            "vassyesboy/netflix-engagement-jan-jun-23               Netflix Engagement (Jan - Jun 23) +           2MB  2023-12-15 11:58:07           1181         30  1.0              \n",
            "thedevastator/global-video-game-sales-and-ratings      Global Video Game Sales and Ratings          71KB  2023-12-20 06:46:32           1598         36  0.9411765        \n",
            "thedevastator/netflix-imdb-scores                      Netflix IMDB Scores                         699KB  2023-12-03 14:10:34           5347         95  1.0              \n",
            "thedrcat/daigt-external-train-dataset                  DAIGT External Train Dataset                435MB  2023-11-06 17:10:37            453         53  1.0              \n",
            "mawro73/social-influence-on-shopping                   Social Influence on Shopping                 12KB  2023-12-21 09:25:31            553         25  1.0              \n",
            "elvinrustam/books-dataset                              Books Dataset                                53MB  2023-12-20 20:46:34           1001         29  1.0              \n",
            "thedevastator/film-genre-statistics                    Film Genre Statistics                        36KB  2023-12-19 06:45:48           1077         29  1.0              \n",
            "dansbecker/melbourne-housing-snapshot                  Melbourne Housing Snapshot                  451KB  2018-06-05 12:52:24         134140       1406  0.7058824        \n",
            "jacksondivakarr/phone-classification-dataset           Phone Classification Dataset                205KB  2023-12-12 15:21:07           1848         38  1.0              \n",
            "henryshan/amazon-com-inc-amzn                          Amazon Stock Price                          128KB  2023-12-06 11:18:11            584         32  1.0              \n",
            "spoorthiuk/us-top-10k-artists-and-their-popular-songs  US Top 10K Artists and Their Popular Songs    3MB  2023-12-13 17:49:48           1661         39  1.0              \n",
            "thedrcat/daigt-v3-train-dataset                        daigt-v3-train-dataset                       83MB  2023-12-28 04:36:42            181         41  1.0              \n"
          ]
        }
      ],
      "source": [
        "!kaggle datasets list"
      ]
    },
    {
      "cell_type": "code",
      "execution_count": null,
      "metadata": {
        "colab": {
          "base_uri": "https://localhost:8080/"
        },
        "id": "OFYWPqco5yW4",
        "outputId": "f48dbda9-f951-4752-e2eb-21c9397b327c"
      },
      "outputs": [
        {
          "output_type": "stream",
          "name": "stdout",
          "text": [
            "Downloading diabetic-retinopathy-level-detection.zip to /content\n",
            "100% 9.65G/9.66G [01:42<00:00, 165MB/s]\n",
            "100% 9.66G/9.66G [01:42<00:00, 101MB/s]\n"
          ]
        }
      ],
      "source": [
        "!kaggle datasets download -d arbethi/diabetic-retinopathy-level-detection"
      ]
    },
    {
      "cell_type": "code",
      "execution_count": null,
      "metadata": {
        "id": "xB9cCm-16bco"
      },
      "outputs": [],
      "source": [
        "!unzip -q /content/diabetic-retinopathy-level-detection.zip"
      ]
    },
    {
      "cell_type": "code",
      "execution_count": null,
      "metadata": {
        "id": "Oubj8n1469mq"
      },
      "outputs": [],
      "source": [
        "imageSize = [299, 299]\n",
        "trainPath = r'/content/preprocessed dataset/preprocessed dataset/train'\n",
        "testPath = r'/content/preprocessed dataset/preprocessed dataset/test'"
      ]
    },
    {
      "cell_type": "code",
      "execution_count": null,
      "metadata": {
        "id": "CUDTtfCw7_Q-"
      },
      "outputs": [],
      "source": [
        "from tensorflow.keras.layers import Dense, Flatten, Input\n",
        "from tensorflow.keras.models import Model\n",
        "from tensorflow.keras.preprocessing import image\n",
        "from tensorflow.keras.preprocessing.image import ImageDataGenerator, load_img\n",
        "from tensorflow.keras.applications.xception import Xception, preprocess_input\n",
        "from glob import glob\n",
        "import matplotlib.pyplot as plt\n",
        "import numpy as np"
      ]
    },
    {
      "cell_type": "code",
      "execution_count": null,
      "metadata": {
        "id": "eXK9pF1a9Hpo"
      },
      "outputs": [],
      "source": [
        "train_datagen = ImageDataGenerator(rescale=1./255,\n",
        "                                   shear_range=0.2,\n",
        "                                   zoom_range=0.2,\n",
        "                                   horizontal_flip=True)\n",
        "test_datagen = ImageDataGenerator(rescale=1./255)"
      ]
    },
    {
      "cell_type": "code",
      "execution_count": null,
      "metadata": {
        "colab": {
          "base_uri": "https://localhost:8080/"
        },
        "id": "qhjueFuY95sJ",
        "outputId": "ad16d97b-fc2d-4ad2-8cf0-98f58f14964a"
      },
      "outputs": [
        {
          "output_type": "stream",
          "name": "stdout",
          "text": [
            "Found 3662 images belonging to 5 classes.\n",
            "Found 734 images belonging to 5 classes.\n"
          ]
        }
      ],
      "source": [
        "training_set = train_datagen.flow_from_directory('/content/preprocessed dataset/preprocessed dataset/training',\n",
        "                                      target_size=(299, 299),\n",
        "                                      class_mode='categorical',\n",
        "                                      batch_size=32)\n",
        "test_set = test_datagen.flow_from_directory('/content/preprocessed dataset/preprocessed dataset/testing',\n",
        "                                    target_size=(299, 299),\n",
        "                                      class_mode='categorical',\n",
        "                                      batch_size=32)"
      ]
    },
    {
      "cell_type": "code",
      "execution_count": null,
      "metadata": {
        "colab": {
          "base_uri": "https://localhost:8080/"
        },
        "id": "jdbz8QT-oZEf",
        "outputId": "60b07b07-4a9b-4301-819c-1eb0b1cfcc04"
      },
      "outputs": [
        {
          "output_type": "execute_result",
          "data": {
            "text/plain": [
              "{'0': 0, '1': 1, '2': 2, '3': 3, '4': 4}"
            ]
          },
          "metadata": {},
          "execution_count": 16
        }
      ],
      "source": [
        "training_set.class_indices"
      ]
    },
    {
      "cell_type": "code",
      "execution_count": null,
      "metadata": {
        "colab": {
          "base_uri": "https://localhost:8080/"
        },
        "id": "Y_gisONN_pyW",
        "outputId": "01245eed-0077-4f32-8843-465c7a5b89b8"
      },
      "outputs": [
        {
          "output_type": "stream",
          "name": "stdout",
          "text": [
            "Downloading data from https://storage.googleapis.com/tensorflow/keras-applications/xception/xception_weights_tf_dim_ordering_tf_kernels_notop.h5\n",
            "83683744/83683744 [==============================] - 0s 0us/step\n"
          ]
        }
      ],
      "source": [
        "xception = Xception(input_shape=imageSize + [3], weights='imagenet', include_top=False)"
      ]
    },
    {
      "cell_type": "code",
      "execution_count": null,
      "metadata": {
        "id": "sbIeRjLs_9P6"
      },
      "outputs": [],
      "source": [
        "for layer in xception.layers:\n",
        "  layer.trainable = False"
      ]
    },
    {
      "cell_type": "code",
      "execution_count": null,
      "metadata": {
        "id": "-RYpGMMqABBy"
      },
      "outputs": [],
      "source": [
        "x = Flatten()(xception.output)"
      ]
    },
    {
      "cell_type": "code",
      "execution_count": null,
      "metadata": {
        "id": "zwJMQ6jSAFLI"
      },
      "outputs": [],
      "source": [
        "prediction = Dense(5, activation='softmax')(x)"
      ]
    },
    {
      "cell_type": "code",
      "execution_count": null,
      "metadata": {
        "id": "6eh63kBBAIUA"
      },
      "outputs": [],
      "source": [
        "model = Model(inputs=xception.input, outputs=prediction)"
      ]
    },
    {
      "cell_type": "code",
      "execution_count": null,
      "metadata": {
        "id": "Y496SDIKAMP4"
      },
      "outputs": [],
      "source": [
        "model.compile(\n",
        "  loss='categorical_crossentropy',\n",
        "  optimizer='adam',\n",
        "  metrics=['accuracy']\n",
        ")"
      ]
    },
    {
      "cell_type": "code",
      "execution_count": null,
      "metadata": {
        "id": "nSVCJljCEXl_"
      },
      "outputs": [],
      "source": [
        "batch_size = 32\n",
        "steps_per_epoch = len(training_set) // batch_size"
      ]
    },
    {
      "cell_type": "code",
      "execution_count": null,
      "metadata": {
        "colab": {
          "base_uri": "https://localhost:8080/"
        },
        "id": "msAejBL5AWD7",
        "outputId": "75b233e7-31b4-4343-8947-3604d7dbb700"
      },
      "outputs": [
        {
          "metadata": {
            "tags": null
          },
          "name": "stderr",
          "output_type": "stream",
          "text": [
            "<ipython-input-24-b8d67da5f866>:1: UserWarning: `Model.fit_generator` is deprecated and will be removed in a future version. Please use `Model.fit`, which supports generators.\n",
            "  model.fit_generator(\n"
          ]
        },
        {
          "metadata": {
            "tags": null
          },
          "name": "stdout",
          "output_type": "stream",
          "text": [
            "Epoch 1/30\n",
            "3/3 [==============================] - 484s 229s/step - loss: 7.5395 - accuracy: 0.4271 - val_loss: 12.0556 - val_accuracy: 0.3828\n",
            "Epoch 2/30\n",
            "3/3 [==============================] - 476s 226s/step - loss: 11.1324 - accuracy: 0.4479 - val_loss: 7.8777 - val_accuracy: 0.5627\n",
            "Epoch 3/30\n",
            "3/3 [==============================] - 503s 240s/step - loss: 7.8235 - accuracy: 0.5938 - val_loss: 7.6342 - val_accuracy: 0.6798\n",
            "Epoch 4/30\n",
            "3/3 [==============================] - 475s 227s/step - loss: 7.9031 - accuracy: 0.6667 - val_loss: 6.2273 - val_accuracy: 0.6567\n",
            "Epoch 5/30\n",
            "3/3 [==============================] - 503s 239s/step - loss: 11.2066 - accuracy: 0.4479 - val_loss: 7.6107 - val_accuracy: 0.5150\n",
            "Epoch 6/30\n",
            "3/3 [==============================] - 501s 239s/step - loss: 5.2464 - accuracy: 0.6042 - val_loss: 6.3114 - val_accuracy: 0.5777\n",
            "Epoch 7/30\n",
            "3/3 [==============================] - 451s 214s/step - loss: 4.0950 - accuracy: 0.7083 - val_loss: 6.4169 - val_accuracy: 0.6676\n",
            "Epoch 8/30\n",
            "3/3 [==============================] - 498s 238s/step - loss: 7.2853 - accuracy: 0.6979 - val_loss: 6.5171 - val_accuracy: 0.7003\n",
            "Epoch 9/30\n",
            "3/3 [==============================] - 505s 241s/step - loss: 8.9052 - accuracy: 0.6667 - val_loss: 6.9733 - val_accuracy: 0.5531\n",
            "Epoch 10/30\n",
            "3/3 [==============================] - 460s 218s/step - loss: 7.1336 - accuracy: 0.4375 - val_loss: 4.9079 - val_accuracy: 0.7193\n",
            "Epoch 11/30\n",
            "3/3 [==============================] - 501s 239s/step - loss: 5.0698 - accuracy: 0.6875 - val_loss: 5.5503 - val_accuracy: 0.7098\n",
            "Epoch 12/30\n",
            "3/3 [==============================] - 440s 208s/step - loss: 4.2703 - accuracy: 0.7188 - val_loss: 3.7321 - val_accuracy: 0.6907\n",
            "Epoch 13/30\n",
            "3/3 [==============================] - 501s 239s/step - loss: 3.5050 - accuracy: 0.6771 - val_loss: 3.1442 - val_accuracy: 0.6798\n",
            "Epoch 14/30\n",
            "3/3 [==============================] - 500s 239s/step - loss: 4.9317 - accuracy: 0.6354 - val_loss: 3.0168 - val_accuracy: 0.7125\n",
            "Epoch 15/30\n",
            "3/3 [==============================] - 457s 217s/step - loss: 5.5375 - accuracy: 0.6250 - val_loss: 5.4101 - val_accuracy: 0.5967\n",
            "Epoch 16/30\n",
            "3/3 [==============================] - 500s 239s/step - loss: 5.8537 - accuracy: 0.5625 - val_loss: 4.0019 - val_accuracy: 0.6281\n",
            "Epoch 17/30\n",
            "3/3 [==============================] - 510s 244s/step - loss: 4.0737 - accuracy: 0.6875 - val_loss: 4.0725 - val_accuracy: 0.6812\n",
            "Epoch 18/30\n",
            "3/3 [==============================] - 500s 239s/step - loss: 4.8850 - accuracy: 0.6146 - val_loss: 2.7539 - val_accuracy: 0.6703\n",
            "Epoch 19/30\n",
            "3/3 [==============================] - 500s 238s/step - loss: 3.9935 - accuracy: 0.6667 - val_loss: 3.5956 - val_accuracy: 0.6253\n",
            "Epoch 20/30\n",
            "3/3 [==============================] - 500s 238s/step - loss: 3.3632 - accuracy: 0.6458 - val_loss: 3.3082 - val_accuracy: 0.7234\n",
            "Epoch 21/30\n",
            "3/3 [==============================] - 499s 238s/step - loss: 3.1572 - accuracy: 0.7500 - val_loss: 4.6496 - val_accuracy: 0.7207\n",
            "Epoch 22/30\n",
            "3/3 [==============================] - 445s 211s/step - loss: 5.0991 - accuracy: 0.6562 - val_loss: 3.6127 - val_accuracy: 0.6512\n",
            "Epoch 23/30\n",
            "3/3 [==============================] - 500s 239s/step - loss: 5.9238 - accuracy: 0.6562 - val_loss: 3.7139 - val_accuracy: 0.6444\n",
            "Epoch 24/30\n",
            "3/3 [==============================] - ETA: 0s - loss: 4.7000 - accuracy: 0.6354 "
          ]
        }
      ],
      "source": [
        "model.fit_generator(\n",
        "  training_set,\n",
        "  validation_data=test_set,\n",
        "  epochs=30,\n",
        "  steps_per_epoch=len(training_set) // batch_size,\n",
        "\n",
        "  validation_steps=len(test_set)\n",
        ")"
      ]
    },
    {
      "cell_type": "code",
      "execution_count": null,
      "metadata": {
        "id": "Cnzx_2JtAjHE",
        "colab": {
          "base_uri": "https://localhost:8080/"
        },
        "outputId": "14255677-15e8-4ab5-9a4a-3e62c726b0e0"
      },
      "outputs": [
        {
          "output_type": "stream",
          "name": "stderr",
          "text": [
            "/usr/local/lib/python3.10/dist-packages/keras/src/engine/training.py:3103: UserWarning: You are saving your model as an HDF5 file via `model.save()`. This file format is considered legacy. We recommend using instead the native Keras format, e.g. `model.save('my_model.keras')`.\n",
            "  saving_api.save_model(\n"
          ]
        }
      ],
      "source": [
        "model.save('Colab_Model.h5')"
      ]
    }
  ],
  "metadata": {
    "accelerator": "TPU",
    "colab": {
      "provenance": []
    },
    "kernelspec": {
      "display_name": "Python 3",
      "name": "python3"
    },
    "language_info": {
      "name": "python"
    }
  },
  "nbformat": 4,
  "nbformat_minor": 0
}