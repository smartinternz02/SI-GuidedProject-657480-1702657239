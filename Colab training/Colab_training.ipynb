{
  "cells": [
    {
      "cell_type": "code",
      "execution_count": 1,
      "metadata": {
        "colab": {
          "base_uri": "https://localhost:8080/"
        },
        "id": "TpOSr1jK4IcX",
        "outputId": "dd0a289c-ee76-4165-86c8-14e4451945ea"
      },
      "outputs": [
        {
          "output_type": "stream",
          "name": "stdout",
          "text": [
            "Requirement already satisfied: kaggle in /usr/local/lib/python3.10/dist-packages (1.5.16)\n",
            "Requirement already satisfied: six>=1.10 in /usr/local/lib/python3.10/dist-packages (from kaggle) (1.16.0)\n",
            "Requirement already satisfied: certifi in /usr/local/lib/python3.10/dist-packages (from kaggle) (2023.11.17)\n",
            "Requirement already satisfied: python-dateutil in /usr/local/lib/python3.10/dist-packages (from kaggle) (2.8.2)\n",
            "Requirement already satisfied: requests in /usr/local/lib/python3.10/dist-packages (from kaggle) (2.31.0)\n",
            "Requirement already satisfied: tqdm in /usr/local/lib/python3.10/dist-packages (from kaggle) (4.66.1)\n",
            "Requirement already satisfied: python-slugify in /usr/local/lib/python3.10/dist-packages (from kaggle) (8.0.1)\n",
            "Requirement already satisfied: urllib3 in /usr/local/lib/python3.10/dist-packages (from kaggle) (2.0.7)\n",
            "Requirement already satisfied: bleach in /usr/local/lib/python3.10/dist-packages (from kaggle) (6.1.0)\n",
            "Requirement already satisfied: webencodings in /usr/local/lib/python3.10/dist-packages (from bleach->kaggle) (0.5.1)\n",
            "Requirement already satisfied: text-unidecode>=1.3 in /usr/local/lib/python3.10/dist-packages (from python-slugify->kaggle) (1.3)\n",
            "Requirement already satisfied: charset-normalizer<4,>=2 in /usr/local/lib/python3.10/dist-packages (from requests->kaggle) (3.3.2)\n",
            "Requirement already satisfied: idna<4,>=2.5 in /usr/local/lib/python3.10/dist-packages (from requests->kaggle) (3.6)\n"
          ]
        }
      ],
      "source": [
        "!pip install kaggle"
      ]
    },
    {
      "cell_type": "code",
      "execution_count": 2,
      "metadata": {
        "id": "DnyDZ-Ja4m0R"
      },
      "outputs": [],
      "source": [
        "! mkdir ~/.kaggle"
      ]
    },
    {
      "cell_type": "code",
      "execution_count": 4,
      "metadata": {
        "id": "pMlrJsD44tdc"
      },
      "outputs": [],
      "source": [
        "! cp kaggle.json ~/.kaggle/"
      ]
    },
    {
      "cell_type": "code",
      "execution_count": 5,
      "metadata": {
        "id": "seheQfmT4xBr"
      },
      "outputs": [],
      "source": [
        "! chmod 600 ~/.kaggle/kaggle.json"
      ]
    },
    {
      "cell_type": "code",
      "execution_count": 6,
      "metadata": {
        "colab": {
          "base_uri": "https://localhost:8080/"
        },
        "id": "_ahiK0pY5g1z",
        "outputId": "8cd4a17f-f5ec-459e-bc24-92c4370a9d90"
      },
      "outputs": [
        {
          "output_type": "stream",
          "name": "stdout",
          "text": [
            "ref                                                    title                                        size  lastUpdated          downloadCount  voteCount  usabilityRating  \n",
            "-----------------------------------------------------  ------------------------------------------  -----  -------------------  -------------  ---------  ---------------  \n",
            "thedrcat/daigt-v2-train-dataset                        DAIGT V2 Train Dataset                       29MB  2023-11-16 01:38:36           2873        243  1.0              \n",
            "thedevastator/global-video-game-sales-and-reviews      Global Video Game Sales and Reviews          56KB  2023-12-20 06:36:51           1020         29  1.0              \n",
            "bhavikjikadara/car-price-prediction-dataset            Car Price Prediction Dataset                  4KB  2023-12-23 07:07:54           1071         31  0.9411765        \n",
            "muhammadbinimran/housing-price-prediction-data         Housing Price Prediction Data               763KB  2023-11-21 17:56:32          12364        214  1.0              \n",
            "andreinovikov/air-pollution                            Air pollution                                96KB  2023-12-05 12:00:34           1073         22  1.0              \n",
            "henryshan/2023-data-scientists-salary                  2023 Data Scientists Salary                  25KB  2023-12-14 10:14:34           2043         40  1.0              \n",
            "thedrcat/daigt-proper-train-dataset                    DAIGT Proper Train Dataset                  119MB  2023-11-05 14:03:25           2278        176  1.0              \n",
            "henryshan/starbucks                                    Starbucks                                     5KB  2023-12-06 03:07:49           4219         92  1.0              \n",
            "vassyesboy/netflix-engagement-jan-jun-23               Netflix Engagement (Jan - Jun 23) +           2MB  2023-12-15 11:58:07           1157         30  1.0              \n",
            "thedevastator/netflix-imdb-scores                      Netflix IMDB Scores                         699KB  2023-12-03 14:10:34           5315         95  1.0              \n",
            "thedevastator/global-video-game-sales-and-ratings      Global Video Game Sales and Ratings          71KB  2023-12-20 06:46:32           1596         36  0.9411765        \n",
            "thedrcat/daigt-external-train-dataset                  DAIGT External Train Dataset                435MB  2023-11-06 17:10:37            449         53  1.0              \n",
            "mawro73/social-influence-on-shopping                   Social Influence on Shopping                 12KB  2023-12-21 09:25:31            547         25  1.0              \n",
            "elvinrustam/books-dataset                              Books Dataset                                53MB  2023-12-20 20:46:34            982         29  1.0              \n",
            "jacksondivakarr/phone-classification-dataset           Phone Classification Dataset                205KB  2023-12-12 15:21:07           1828         38  1.0              \n",
            "thedevastator/film-genre-statistics                    Film Genre Statistics                        36KB  2023-12-19 06:45:48           1059         29  1.0              \n",
            "dansbecker/melbourne-housing-snapshot                  Melbourne Housing Snapshot                  451KB  2018-06-05 12:52:24         134113       1406  0.7058824        \n",
            "henryshan/amazon-com-inc-amzn                          Amazon Stock Price                          128KB  2023-12-06 11:18:11            578         32  1.0              \n",
            "spoorthiuk/us-top-10k-artists-and-their-popular-songs  US Top 10K Artists and Their Popular Songs    3MB  2023-12-13 17:49:48           1650         39  1.0              \n",
            "thedrcat/daigt-v3-train-dataset                        daigt-v3-train-dataset                       83MB  2023-12-28 04:36:42            169         41  1.0              \n"
          ]
        }
      ],
      "source": [
        "!kaggle datasets list"
      ]
    },
    {
      "cell_type": "code",
      "execution_count": 7,
      "metadata": {
        "colab": {
          "base_uri": "https://localhost:8080/"
        },
        "id": "OFYWPqco5yW4",
        "outputId": "433e4912-e9b5-4f53-9ef8-c6407b434645"
      },
      "outputs": [
        {
          "output_type": "stream",
          "name": "stdout",
          "text": [
            "Downloading diabetic-retinopathy-level-detection.zip to /content\n",
            "100% 9.64G/9.66G [01:35<00:00, 144MB/s]\n",
            "100% 9.66G/9.66G [01:35<00:00, 108MB/s]\n"
          ]
        }
      ],
      "source": [
        "!kaggle datasets download -d arbethi/diabetic-retinopathy-level-detection"
      ]
    },
    {
      "cell_type": "code",
      "execution_count": 8,
      "metadata": {
        "id": "xB9cCm-16bco"
      },
      "outputs": [],
      "source": [
        "!unzip -q /content/diabetic-retinopathy-level-detection.zip"
      ]
    },
    {
      "cell_type": "code",
      "execution_count": 9,
      "metadata": {
        "id": "Oubj8n1469mq"
      },
      "outputs": [],
      "source": [
        "imageSize = [299, 299]\n",
        "trainPath = r'/content/preprocessed dataset/preprocessed dataset/train'\n",
        "testPath = r'/content/preprocessed dataset/preprocessed dataset/test'"
      ]
    },
    {
      "cell_type": "code",
      "execution_count": 10,
      "metadata": {
        "id": "CUDTtfCw7_Q-"
      },
      "outputs": [],
      "source": [
        "from tensorflow.keras.layers import Dense, Flatten, Input\n",
        "from tensorflow.keras.models import Model\n",
        "from tensorflow.keras.preprocessing import image\n",
        "from tensorflow.keras.preprocessing.image import ImageDataGenerator, load_img\n",
        "from tensorflow.keras.applications.xception import Xception, preprocess_input\n",
        "from glob import glob\n",
        "import matplotlib.pyplot as plt\n",
        "import numpy as np"
      ]
    },
    {
      "cell_type": "code",
      "execution_count": 11,
      "metadata": {
        "id": "eXK9pF1a9Hpo"
      },
      "outputs": [],
      "source": [
        "train_datagen = ImageDataGenerator(rescale=1./255,\n",
        "                                   shear_range=0.2,\n",
        "                                   zoom_range=0.2,\n",
        "                                   horizontal_flip=True)\n",
        "test_datagen = ImageDataGenerator(rescale=1./255)"
      ]
    },
    {
      "cell_type": "code",
      "execution_count": 12,
      "metadata": {
        "colab": {
          "base_uri": "https://localhost:8080/"
        },
        "id": "qhjueFuY95sJ",
        "outputId": "4809a134-c69f-4379-f137-e45428d820d9"
      },
      "outputs": [
        {
          "output_type": "stream",
          "name": "stdout",
          "text": [
            "Found 3662 images belonging to 5 classes.\n",
            "Found 734 images belonging to 5 classes.\n"
          ]
        }
      ],
      "source": [
        "training_set = train_datagen.flow_from_directory('/content/preprocessed dataset/preprocessed dataset/training',\n",
        "                                      target_size=(299, 299),\n",
        "                                      class_mode='categorical',\n",
        "                                      batch_size=32)\n",
        "test_set = test_datagen.flow_from_directory('/content/preprocessed dataset/preprocessed dataset/testing',\n",
        "                                    target_size=(299, 299),\n",
        "                                      class_mode='categorical',\n",
        "                                      batch_size=32)"
      ]
    },
    {
      "cell_type": "code",
      "execution_count": 13,
      "metadata": {
        "colab": {
          "base_uri": "https://localhost:8080/"
        },
        "id": "jdbz8QT-oZEf",
        "outputId": "8d2d546a-c9f7-460a-87dc-b7e8b8e7b037"
      },
      "outputs": [
        {
          "output_type": "execute_result",
          "data": {
            "text/plain": [
              "{'0': 0, '1': 1, '2': 2, '3': 3, '4': 4}"
            ]
          },
          "metadata": {},
          "execution_count": 13
        }
      ],
      "source": [
        "training_set.class_indices"
      ]
    },
    {
      "cell_type": "code",
      "execution_count": 14,
      "metadata": {
        "colab": {
          "base_uri": "https://localhost:8080/"
        },
        "id": "Y_gisONN_pyW",
        "outputId": "7cfbd9d7-8211-4711-cbe8-192e9131a7b7"
      },
      "outputs": [
        {
          "output_type": "stream",
          "name": "stdout",
          "text": [
            "Downloading data from https://storage.googleapis.com/tensorflow/keras-applications/xception/xception_weights_tf_dim_ordering_tf_kernels_notop.h5\n",
            "83683744/83683744 [==============================] - 1s 0us/step\n"
          ]
        }
      ],
      "source": [
        "xception = Xception(input_shape=imageSize + [3], weights='imagenet', include_top=False)"
      ]
    },
    {
      "cell_type": "code",
      "execution_count": 15,
      "metadata": {
        "id": "sbIeRjLs_9P6"
      },
      "outputs": [],
      "source": [
        "for layer in xception.layers:\n",
        "  layer.trainable = False"
      ]
    },
    {
      "cell_type": "code",
      "execution_count": 16,
      "metadata": {
        "id": "-RYpGMMqABBy"
      },
      "outputs": [],
      "source": [
        "x = Flatten()(xception.output)"
      ]
    },
    {
      "cell_type": "code",
      "execution_count": 17,
      "metadata": {
        "id": "zwJMQ6jSAFLI"
      },
      "outputs": [],
      "source": [
        "prediction = Dense(5, activation='softmax')(x)"
      ]
    },
    {
      "cell_type": "code",
      "execution_count": 18,
      "metadata": {
        "id": "6eh63kBBAIUA"
      },
      "outputs": [],
      "source": [
        "model = Model(inputs=xception.input, outputs=prediction)"
      ]
    },
    {
      "cell_type": "code",
      "execution_count": 19,
      "metadata": {
        "id": "Y496SDIKAMP4"
      },
      "outputs": [],
      "source": [
        "model.compile(\n",
        "  loss='categorical_crossentropy',\n",
        "  optimizer='adam',\n",
        "  metrics=['accuracy']\n",
        ")"
      ]
    },
    {
      "cell_type": "code",
      "execution_count": 20,
      "metadata": {
        "id": "nSVCJljCEXl_"
      },
      "outputs": [],
      "source": [
        "batch_size = 32\n",
        "steps_per_epoch = len(training_set) // batch_size"
      ]
    },
    {
      "cell_type": "code",
      "execution_count": 22,
      "metadata": {
        "colab": {
          "base_uri": "https://localhost:8080/"
        },
        "id": "msAejBL5AWD7",
        "outputId": "36f543a6-f5b5-47df-9d2b-70bc14b08db9"
      },
      "outputs": [
        {
          "output_type": "stream",
          "name": "stderr",
          "text": [
            "<ipython-input-22-d1e09f269fa2>:1: UserWarning: `Model.fit_generator` is deprecated and will be removed in a future version. Please use `Model.fit`, which supports generators.\n",
            "  model.fit_generator(\n"
          ]
        },
        {
          "output_type": "stream",
          "name": "stdout",
          "text": [
            "Epoch 1/10\n",
            "3/3 [==============================] - 440s 208s/step - loss: 6.6931 - accuracy: 0.5833 - val_loss: 7.8143 - val_accuracy: 0.4005\n",
            "Epoch 2/10\n",
            "3/3 [==============================] - 412s 195s/step - loss: 7.8557 - accuracy: 0.3958 - val_loss: 7.8848 - val_accuracy: 0.5940\n",
            "Epoch 3/10\n",
            "3/3 [==============================] - 439s 207s/step - loss: 6.2438 - accuracy: 0.6875 - val_loss: 7.2710 - val_accuracy: 0.6921\n",
            "Epoch 4/10\n",
            "3/3 [==============================] - 440s 208s/step - loss: 6.6104 - accuracy: 0.6875 - val_loss: 8.1657 - val_accuracy: 0.5490\n",
            "Epoch 5/10\n",
            "3/3 [==============================] - 424s 201s/step - loss: 6.7226 - accuracy: 0.5000 - val_loss: 5.6427 - val_accuracy: 0.5831\n",
            "Epoch 6/10\n",
            "3/3 [==============================] - 444s 210s/step - loss: 4.7296 - accuracy: 0.5938 - val_loss: 4.5489 - val_accuracy: 0.6540\n",
            "Epoch 7/10\n",
            "3/3 [==============================] - 439s 208s/step - loss: 5.8217 - accuracy: 0.6042 - val_loss: 5.1287 - val_accuracy: 0.6880\n",
            "Epoch 8/10\n",
            "3/3 [==============================] - 440s 208s/step - loss: 4.3158 - accuracy: 0.7188 - val_loss: 5.9685 - val_accuracy: 0.6185\n",
            "Epoch 9/10\n",
            "3/3 [==============================] - 440s 208s/step - loss: 8.0733 - accuracy: 0.4792 - val_loss: 4.1208 - val_accuracy: 0.6213\n",
            "Epoch 10/10\n",
            "3/3 [==============================] - 449s 213s/step - loss: 4.1389 - accuracy: 0.6667 - val_loss: 4.1683 - val_accuracy: 0.7112\n"
          ]
        },
        {
          "output_type": "execute_result",
          "data": {
            "text/plain": [
              "<keras.src.callbacks.History at 0x7cb57679c760>"
            ]
          },
          "metadata": {},
          "execution_count": 22
        }
      ],
      "source": [
        "model.fit_generator(\n",
        "  training_set,\n",
        "  validation_data=test_set,\n",
        "  epochs=10,\n",
        "  steps_per_epoch=len(training_set) // batch_size,\n",
        "\n",
        "  validation_steps=len(test_set)\n",
        ")"
      ]
    },
    {
      "cell_type": "code",
      "execution_count": 23,
      "metadata": {
        "id": "Cnzx_2JtAjHE",
        "colab": {
          "base_uri": "https://localhost:8080/"
        },
        "outputId": "14255677-15e8-4ab5-9a4a-3e62c726b0e0"
      },
      "outputs": [
        {
          "output_type": "stream",
          "name": "stderr",
          "text": [
            "/usr/local/lib/python3.10/dist-packages/keras/src/engine/training.py:3103: UserWarning: You are saving your model as an HDF5 file via `model.save()`. This file format is considered legacy. We recommend using instead the native Keras format, e.g. `model.save('my_model.keras')`.\n",
            "  saving_api.save_model(\n"
          ]
        }
      ],
      "source": [
        "model.save('Colab_Model.h5')"
      ]
    }
  ],
  "metadata": {
    "accelerator": "TPU",
    "colab": {
      "provenance": []
    },
    "kernelspec": {
      "display_name": "Python 3",
      "name": "python3"
    },
    "language_info": {
      "name": "python"
    }
  },
  "nbformat": 4,
  "nbformat_minor": 0
}